{
 "cells": [
  {
   "cell_type": "markdown",
   "metadata": {},
   "source": [
    "# KKBox-Recommendation-Challenge"
   ]
  },
  {
   "cell_type": "markdown",
   "metadata": {},
   "source": [
    "Packages"
   ]
  },
  {
   "cell_type": "code",
   "execution_count": 14,
   "metadata": {},
   "outputs": [],
   "source": [
    "import xgboost as xgb\n",
    "from sklearn import metrics\n"
   ]
  },
  {
   "cell_type": "code",
   "execution_count": null,
   "metadata": {},
   "outputs": [],
   "source": [
    "from utils.datapreprocess import DataPreprocess \n",
    "from utils.train import Trainer\n",
    "import warnings\n",
    "warnings.filterwarnings('ignore')\n"
   ]
  },
  {
   "cell_type": "markdown",
   "metadata": {},
   "source": [
    "## Data Preprocess"
   ]
  },
  {
   "cell_type": "code",
   "execution_count": 2,
   "metadata": {},
   "outputs": [],
   "source": [
    "preprocess = DataPreprocess()"
   ]
  },
  {
   "cell_type": "code",
   "execution_count": 3,
   "metadata": {},
   "outputs": [
    {
     "name": "stdout",
     "output_type": "stream",
     "text": [
      "Function 'combime_data_set' executed in 50.9276s\n"
     ]
    }
   ],
   "source": [
    "train,test = preprocess.combime_data_set()"
   ]
  },
  {
   "cell_type": "code",
   "execution_count": 4,
   "metadata": {},
   "outputs": [
    {
     "name": "stdout",
     "output_type": "stream",
     "text": [
      "Function '__fill_dataframe_na' executed in 12.4211s\n",
      "Function '__registration_init_time_transform' executed in 6.4701s\n",
      "Function '__expiration_date_transform' executed in 4.6511s\n",
      "Function '__obj_to_category' executed in 18.1244s\n",
      "Function '__catagory_encoding' executed in 2.5070s\n"
     ]
    }
   ],
   "source": [
    "train = preprocess.data_pipeline_execute(train)"
   ]
  },
  {
   "cell_type": "code",
   "execution_count": 5,
   "metadata": {},
   "outputs": [
    {
     "name": "stdout",
     "output_type": "stream",
     "text": [
      "Function '__fill_dataframe_na' executed in 5.6401s\n",
      "Function '__registration_init_time_transform' executed in 2.1020s\n",
      "Function '__expiration_date_transform' executed in 1.5680s\n",
      "Function '__obj_to_category' executed in 6.6952s\n",
      "Function '__catagory_encoding' executed in 4.3951s\n"
     ]
    }
   ],
   "source": [
    "test = preprocess.data_pipeline_execute(test)"
   ]
  },
  {
   "cell_type": "markdown",
   "metadata": {},
   "source": [
    "## Training"
   ]
  },
  {
   "cell_type": "code",
   "execution_count": 6,
   "metadata": {},
   "outputs": [],
   "source": [
    "trainer = Trainer()"
   ]
  },
  {
   "cell_type": "code",
   "execution_count": 7,
   "metadata": {},
   "outputs": [
    {
     "name": "stdout",
     "output_type": "stream",
     "text": [
      "Function '__get_importance_matrix_from_random_forest' executed in 13164.2642s\n",
      "Function '__drop_variable_under_threshold' executed in 29.5032s\n",
      "Function '__split_target_label' executed in 0.0590s\n"
     ]
    }
   ],
   "source": [
    "dataset_dict = trainer.split_dataset_to_train_and_val(train)"
   ]
  },
  {
   "cell_type": "code",
   "execution_count": null,
   "metadata": {},
   "outputs": [],
   "source": [
    "parameters_grid = { 'learning_rate' : [0.1, 0.2, 0.5], 'max_depth' : [5, 10, 15], 'n_estimators' : [150, 250, 300], 'min_child_weight' : [3, 5, 10] }\n",
    "result = trainer.xgboost_grid_search_find_best_param(dataset_dict=dataset_dict,param_grid=parameters_grid)"
   ]
  },
  {
   "cell_type": "code",
   "execution_count": null,
   "metadata": {},
   "outputs": [],
   "source": [
    "print(result)"
   ]
  },
  {
   "cell_type": "code",
   "execution_count": 11,
   "metadata": {},
   "outputs": [
    {
     "data": {
      "text/plain": [
       "XGBClassifier(base_score=0.5, booster='gbtree', callbacks=None,\n",
       "       colsample_bylevel=1, colsample_bynode=1, colsample_bytree=1,\n",
       "       early_stopping_rounds=None, enable_categorical=False,\n",
       "       eval_metric=None, gamma=0, gpu_id=-1, grow_policy='depthwise',\n",
       "       importance_type=None, interaction_constraints='', learning_rate=0.1,\n",
       "       max_bin=256, max_cat_to_onehot=4, max_delta_step=0, max_depth=10,\n",
       "       max_leaves=0, min_child_weight=10, missing=nan,\n",
       "       monotone_constraints='()', n_estimators=250, n_jobs=0,\n",
       "       num_parallel_tree=1, objective='binary:logistic', predictor='auto',\n",
       "       random_state=0, reg_alpha=0, reg_lambda=1,\n",
       "       sampling_method='uniform', scale_pos_weight=1, subsample=1,\n",
       "       tree_method='approx', use_label_encoder=False,\n",
       "       validate_parameters=1, verbosity=None)"
      ]
     },
     "execution_count": 11,
     "metadata": {},
     "output_type": "execute_result"
    }
   ],
   "source": [
    "model_xgb = xgb.XGBClassifier(learning_rate=0.1, max_depth=10, min_child_weight=10, n_estimators=250)\n",
    "model_xgb.fit(dataset_dict['train_data'], dataset_dict['train_labels'])"
   ]
  },
  {
   "cell_type": "code",
   "execution_count": 12,
   "metadata": {},
   "outputs": [],
   "source": [
    "predict_labels = model_xgb.predict(dataset_dict['test_data'])"
   ]
  },
  {
   "cell_type": "code",
   "execution_count": 15,
   "metadata": {},
   "outputs": [
    {
     "name": "stdout",
     "output_type": "stream",
     "text": [
      "              precision    recall  f1-score   support\n",
      "\n",
      "           0       0.70      0.66      0.68    732669\n",
      "           1       0.68      0.71      0.70    742815\n",
      "\n",
      "   micro avg       0.69      0.69      0.69   1475484\n",
      "   macro avg       0.69      0.69      0.69   1475484\n",
      "weighted avg       0.69      0.69      0.69   1475484\n",
      "\n"
     ]
    }
   ],
   "source": [
    "print(metrics.classification_report(dataset_dict['test_labels'], predict_labels))"
   ]
  }
 ],
 "metadata": {
  "kernelspec": {
   "display_name": "Python 3.7.4 ('base')",
   "language": "python",
   "name": "python3"
  },
  "language_info": {
   "codemirror_mode": {
    "name": "ipython",
    "version": 3
   },
   "file_extension": ".py",
   "mimetype": "text/x-python",
   "name": "python",
   "nbconvert_exporter": "python",
   "pygments_lexer": "ipython3",
   "version": "3.7.4"
  },
  "vscode": {
   "interpreter": {
    "hash": "136ac6390a149cc93e6470a8f7f2b930c2fa00ca17cae58650efc746ba1de66d"
   }
  }
 },
 "nbformat": 4,
 "nbformat_minor": 2
}
